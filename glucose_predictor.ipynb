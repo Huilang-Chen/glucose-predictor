{
 "cells": [
  {
   "cell_type": "markdown",
   "metadata": {},
   "source": [
    "### This notebook train a neural network to predict glucose level."
   ]
  },
  {
   "cell_type": "code",
   "execution_count": null,
   "metadata": {},
   "outputs": [],
   "source": [
    "import tensorflow as tf\n",
    "from tensorflow.keras.models import Sequential\n",
    "from tensorflow.keras.layers import Dense\n",
    "import numpy as np\n",
    "import matplotlib.pyplot as plt"
   ]
  },
  {
   "cell_type": "markdown",
   "metadata": {},
   "source": [
    "### DateSet"
   ]
  },
  {
   "cell_type": "code",
   "execution_count": null,
   "metadata": {},
   "outputs": [],
   "source": [
    "header = np.array([\"Timestamp\", \"Date\", \"Lean Meat\", \"Sauce or Soft Drink with Sugar\", \"Carbohydrate\", \"Fried Food\",\n",
    "     \"Alcohol Consumption\", \"Number of Meals\", \"Minutes of Running\", \"Minutes of Other Exercise\", \n",
    "     \"Portion Size\", \"Stress Level\", \"Sleep Duration\", \"Sleep Score\", \"Glucose Level (next morning)\"])\n",
    "data = np.array([\n",
    "    [\"11/25/2024 10:58:34\", \"11/24/2024\", 0, 0, 0, 0, 0, 1, 0, 0, 3, 3, \"07:02\", 81, 128],\n",
    "    [\"11/26/2024 9:51:53\", \"11/25/2024\", 1, 0, 0, 0, 0, 1, 36, 0, 2, 3, \"7:02\", 68, 125],\n",
    "    [\"11/27/2024 11:09:58\", \"11/26/2024\", 0, 0, 0, 0, 0, 1, 34, 0, 2, 3, \"6:58\", 75, 116],\n",
    "    [\"11/28/2024 7:45:19\", \"11/27/2024\", 0, 0, 0, 0, 0, 1, 36, 0, 3, 2, \"7:00\", 61, 116],\n",
    "    [\"11/29/2024 8:56:11\", \"11/28/2024\", 1, 0, 0, 0, 0, 3, 29, 40, 3, 2, \"7:57\", 76, 129],\n",
    "    [\"11/30/2024 18:47:43\", \"11/29/2024\", 1, 0, 0, 0, 0, 1, 0, 0, 1, 2, \"6:27\", 77, 119],\n",
    "    [\"12/1/2024 17:36:09\", \"11/30/2024\", 1, 0, 1, 0, 0, 1, 55, 37, 2, 1, \"9:04\", 84, 126],\n",
    "    [\"12/2/2024 8:59:54\", \"12/1/2024\", 1, 0, 0, 1, 0, 1, 40, 0, 3, 2, \"7:19\", 79, 126],\n",
    "    [\"12/3/2024 16:35:05\", \"12/2/2024\", 1, 0, 0, 0, 0, 2, 0, 34, 2, 3, \"6:29\", 66, 114]\n",
    "])\n",
    "print(header.shape)\n",
    "print(data.shape)"
   ]
  },
  {
   "cell_type": "code",
   "execution_count": null,
   "metadata": {},
   "outputs": [],
   "source": [
    "def time_to_minutes(time_str):\n",
    "    \"\"\"Converts a time string in HH:MM format to total minutes.\n",
    "\n",
    "    Args:\n",
    "        time_str: The time string in HH:MM format (e.g., \"02:30\").\n",
    "\n",
    "    Returns:\n",
    "        The total number of minutes, or None if the input is invalid.\n",
    "    \"\"\"\n",
    "    try:\n",
    "        hours, minutes = map(int, time_str.split(':'))\n",
    "        if 0 <= hours <= 23 and 0 <= minutes <= 59:\n",
    "            return hours * 60 + minutes\n",
    "        else:\n",
    "            return None  # Invalid time format\n",
    "    except ValueError:\n",
    "        return None  # Invalid time format"
   ]
  },
  {
   "cell_type": "markdown",
   "metadata": {},
   "source": [
    "#### organize data"
   ]
  },
  {
   "cell_type": "code",
   "execution_count": null,
   "metadata": {},
   "outputs": [],
   "source": [
    "# convert xx:xx to minutes\n",
    "print(header[-3])\n",
    "l = data.shape[0]\n",
    "for i in range(l):\n",
    "  time_str = data[i][-3]\n",
    "  data[i][-3] = time_to_minutes(time_str)\n",
    "  print(f\"{time_str} --> {data[i][-3]}\")\n",
    "# print(data)"
   ]
  },
  {
   "cell_type": "code",
   "execution_count": null,
   "metadata": {},
   "outputs": [],
   "source": [
    "#separate into input and output\n",
    "#remove time and output from dataset\n",
    "columns_to_delete = [0, 1, -1]\n",
    "X = np.delete(data, columns_to_delete, 1)\n",
    "print(X)\n",
    "print(f\"X.shape {X.shape}\")\n",
    "Y = data[:, -1]\n",
    "print(Y)\n",
    "print(f\"Y.shape{Y.shape}\")\n",
    "\n",
    "# Convert string array to float NumPy array\n",
    "X = X.astype(np.float64)\n",
    "Y = Y.astype(np.float64)"
   ]
  },
  {
   "cell_type": "code",
   "execution_count": null,
   "metadata": {},
   "outputs": [],
   "source": [
    "# separate into training dataset and verify dataset\n",
    "# 9 --> 8 training and 1 verify\n",
    "#X training and X verify\n",
    "Xt = np.delete(X, -1, 0)\n",
    "Xv = X[-1, :]\n",
    "print(Xt)\n",
    "print(Xt.shape)\n",
    "print(Xv.shape)\n",
    "Yt = np.delete(Y, -1, 0)\n",
    "Yv = Y[-1]\n",
    "print(Yt)\n",
    "print(Yt.shape)\n",
    "print(Yv.shape)"
   ]
  },
  {
   "cell_type": "code",
   "execution_count": null,
   "metadata": {},
   "outputs": [],
   "source": [
    "X_train = np.tile(Xt,(1000,1))\n",
    "# print(X_train)\n",
    "Y_train= np.tile(Yt,(1,1000)).T\n",
    "# print(Y_train.T)\n",
    "print(X_train.shape, Y_train.shape)   "
   ]
  },
  {
   "cell_type": "markdown",
   "metadata": {},
   "source": [
    "## Tensorflow model"
   ]
  },
  {
   "cell_type": "code",
   "execution_count": null,
   "metadata": {},
   "outputs": [],
   "source": [
    "tf.random.set_seed(1234)\n",
    "model = Sequential(\n",
    "  [\n",
    "    tf.keras.Input(shape=(X_train.shape[1],)),\n",
    "    Dense(units=3, activation='relu', name='layer1'),\n",
    "    Dense(units=1, activation='relu', name='layer2')\n",
    "  ]\n",
    ")"
   ]
  },
  {
   "cell_type": "code",
   "execution_count": null,
   "metadata": {},
   "outputs": [],
   "source": [
    "model.summary()"
   ]
  },
  {
   "cell_type": "code",
   "execution_count": null,
   "metadata": {},
   "outputs": [],
   "source": [
    "# W count = # of neurons * input_size + # of neurons\n",
    "L1_num_params = 12 * 3 + 3   # W1 parameters  + b1 parameters\n",
    "L2_num_params = 3 * 1 + 1   # W2 parameters  + b2 parameters\n",
    "print(\"L1 params = \", L1_num_params, \", L2 params = \", L2_num_params  )"
   ]
  },
  {
   "cell_type": "code",
   "execution_count": null,
   "metadata": {},
   "outputs": [],
   "source": [
    "W1, b1 = model.get_layer(\"layer1\").get_weights()\n",
    "W2, b2 = model.get_layer(\"layer2\").get_weights()\n",
    "print(f\"W1{W1.shape}:\\n\", W1, f\"\\nb1{b1.shape}:\", b1)\n",
    "print(f\"W2{W2.shape}:\\n\", W2, f\"\\nb2{b2.shape}:\", b2)"
   ]
  },
  {
   "cell_type": "code",
   "execution_count": null,
   "metadata": {},
   "outputs": [],
   "source": [
    "model.compile(\n",
    "  loss=tf.keras.losses.MeanSquaredError(),\n",
    "  optimizer=tf.keras.optimizers.Adam(0.01)\n",
    ")\n",
    "\n",
    "model.fit(\n",
    "  X_train, Y_train,\n",
    "  epochs=20\n",
    ")"
   ]
  },
  {
   "cell_type": "code",
   "execution_count": null,
   "metadata": {},
   "outputs": [],
   "source": [
    "# Check if the weights are successfully replaced\n",
    "W1, b1 = model.get_layer(\"layer1\").get_weights()\n",
    "W2, b2 = model.get_layer(\"layer2\").get_weights()\n",
    "print(\"W1:\\n\", W1, \"\\nb1:\", b1)\n",
    "print(\"W2:\\n\", W2, \"\\nb2:\", b2)"
   ]
  },
  {
   "cell_type": "code",
   "execution_count": null,
   "metadata": {},
   "outputs": [
    {
     "name": "stdout",
     "output_type": "stream",
     "text": [
      "\u001b[1m1/1\u001b[0m \u001b[32m━━━━━━━━━━━━━━━━━━━━\u001b[0m\u001b[37m\u001b[0m \u001b[1m0s\u001b[0m 131ms/step\n",
      "prediction = \n",
      " [[114.9897]]\n"
     ]
    }
   ],
   "source": [
    "Xv = np.expand_dims(Xv, axis=0)\n",
    "print(f\"Xv {Xv}\\nXv.shape {Xv.shape}\")\n",
    "print(f\"Yv {Yv}\")\n",
    "prediction = model.predict(Xv)\n",
    "print(\"prediction = \\n\", prediction)"
   ]
  },
  {
   "cell_type": "code",
   "execution_count": null,
   "metadata": {},
   "outputs": [],
   "source": [
    "# 1. Mean Absolute Error (MAE)\n",
    "mae = np.mean(np.abs(Yv - prediction))\n",
    "print(f\"Mean Absolute Error (MAE): {mae}\")\n",
    "\n",
    "# 2. Mean Squared Error (MSE)\n",
    "mse = np.mean((Yv - prediction) ** 2)\n",
    "print(f\"Mean Squared Error (MSE): {mse}\")\n",
    "\n",
    "# 3. Root Mean Squared Error (RMSE)\n",
    "rmse = np.sqrt(mse)\n",
    "print(f\"Root Mean Squared Error (RMSE): {rmse}\")\n",
    "\n",
    "# 4. Mean Absolute Percentage Error (MAPE)\n",
    "mape = np.mean(np.abs((Yv - prediction) / Yv)) * 100\n",
    "print(f\"Mean Absolute Percentage Error (MAPE): {mape:.2f}%\")"
   ]
  },
  {
   "cell_type": "code",
   "execution_count": null,
   "metadata": {},
   "outputs": [],
   "source": []
  }
 ],
 "metadata": {
  "kernelspec": {
   "display_name": "Python 3 (ipykernel)",
   "language": "python",
   "name": "python3"
  },
  "language_info": {
   "codemirror_mode": {
    "name": "ipython",
    "version": 3
   },
   "file_extension": ".py",
   "mimetype": "text/x-python",
   "name": "python",
   "nbconvert_exporter": "python",
   "pygments_lexer": "ipython3",
   "version": "3.8.10"
  }
 },
 "nbformat": 4,
 "nbformat_minor": 4
}
